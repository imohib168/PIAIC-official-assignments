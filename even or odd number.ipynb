{
 "cells": [
  {
   "cell_type": "code",
   "execution_count": 1,
   "metadata": {},
   "outputs": [
    {
     "name": "stdout",
     "output_type": "stream",
     "text": [
      "------------------------------------------------------\n",
      "Program to find whether a given number is even or odd: \n",
      "------------------------------------------------------\n",
      "Enter Number: 87\n",
      "------------------------------------------------------\n",
      "The Given Number 87 is an Odd Number. \n",
      "------------------------------------------------------\n"
     ]
    }
   ],
   "source": [
    "def line():\n",
    "    print(\"-\" * 54)\n",
    "line()\n",
    "print(\"Program to find whether a given number is even or odd: \")\n",
    "line()\n",
    "n = int(input(\"Enter Number: \"))\n",
    "line()\n",
    "cal = n % 2\n",
    "if cal > 0:\n",
    "    print(\"The Given Number\",n, \"is an Odd Number. \")\n",
    "else:\n",
    "    print(\"The Given Number\",n, \"is an even Number. \")\n",
    "line()"
   ]
  },
  {
   "cell_type": "code",
   "execution_count": null,
   "metadata": {},
   "outputs": [],
   "source": []
  }
 ],
 "metadata": {
  "kernelspec": {
   "display_name": "Python 3",
   "language": "python",
   "name": "python3"
  },
  "language_info": {
   "codemirror_mode": {
    "name": "ipython",
    "version": 3
   },
   "file_extension": ".py",
   "mimetype": "text/x-python",
   "name": "python",
   "nbconvert_exporter": "python",
   "pygments_lexer": "ipython3",
   "version": "3.7.3"
  }
 },
 "nbformat": 4,
 "nbformat_minor": 2
}
