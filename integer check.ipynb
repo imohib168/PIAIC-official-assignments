{
 "cells": [
  {
   "cell_type": "code",
   "execution_count": 16,
   "metadata": {},
   "outputs": [
    {
     "name": "stdout",
     "output_type": "stream",
     "text": [
      "--------------------------------------------------------------------------------------------------------\n",
      "Program that will return true if the two given integer values are equal or their sum or difference is 5: \n",
      "--------------------------------------------------------------------------------------------------------\n",
      "Enter Integer: 5\n",
      "Enter Integer: 6\n",
      "--------------------------------------------------------------------------------------------------------\n",
      "False\n",
      "--------------------------------------------------------------------------------------------------------\n"
     ]
    }
   ],
   "source": [
    "def line():\n",
    "    print(\"-\" * 104)\n",
    "line()\n",
    "print(\"Program that will return true if the two given integer values are equal or their sum or difference is 5: \")\n",
    "line()\n",
    "def integer():\n",
    "    user_input = int(input(\"Enter Integer: \"))\n",
    "    return integer\n",
    "int_1 = integer()\n",
    "int_2 = integer()\n",
    "line()\n",
    "def cal(int_1,int_2):\n",
    "    if int_1 == int_2:\n",
    "        result = True\n",
    "    elif int_1 + int_2 == 5:\n",
    "        result = True\n",
    "    elif abs(int_1 - int2_) == 5:\n",
    "        result = True\n",
    "    else:\n",
    "        result = False\n",
    "print(result)\n",
    "line()"
   ]
  },
  {
   "cell_type": "code",
   "execution_count": null,
   "metadata": {},
   "outputs": [],
   "source": []
  }
 ],
 "metadata": {
  "kernelspec": {
   "display_name": "Python 3",
   "language": "python",
   "name": "python3"
  },
  "language_info": {
   "codemirror_mode": {
    "name": "ipython",
    "version": 3
   },
   "file_extension": ".py",
   "mimetype": "text/x-python",
   "name": "python",
   "nbconvert_exporter": "python",
   "pygments_lexer": "ipython3",
   "version": "3.7.3"
  }
 },
 "nbformat": 4,
 "nbformat_minor": 2
}
