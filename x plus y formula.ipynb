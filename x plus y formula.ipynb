{
 "cells": [
  {
   "cell_type": "code",
   "execution_count": 6,
   "metadata": {},
   "outputs": [
    {
     "name": "stdout",
     "output_type": "stream",
     "text": [
      "-----------------------------------\n",
      "Program to solve (x + y) * (x + y): \n",
      "-----------------------------------\n",
      "Enter value of 'x': 5\n",
      "Enter value of 'y': 6\n",
      "-----------------------------------\n",
      "Your Answer is:  121\n",
      "-----------------------------------\n"
     ]
    }
   ],
   "source": [
    "def line():\n",
    "    print(\"-\" * 35)\n",
    "line()\n",
    "print(\"Program to solve (x + y) * (x + y): \")\n",
    "line()\n",
    "x = int(input(\"Enter value of 'x': \"))\n",
    "y = int(input(\"Enter value of 'y': \"))\n",
    "line()\n",
    "cal = ((x ** 2) + (2 * x * y) + (y ** 2))\n",
    "print(\"Your Answer is: \",cal)\n",
    "line()"
   ]
  },
  {
   "cell_type": "code",
   "execution_count": null,
   "metadata": {},
   "outputs": [],
   "source": []
  }
 ],
 "metadata": {
  "kernelspec": {
   "display_name": "Python 3",
   "language": "python",
   "name": "python3"
  },
  "language_info": {
   "codemirror_mode": {
    "name": "ipython",
    "version": 3
   },
   "file_extension": ".py",
   "mimetype": "text/x-python",
   "name": "python",
   "nbconvert_exporter": "python",
   "pygments_lexer": "ipython3",
   "version": "3.7.3"
  }
 },
 "nbformat": 4,
 "nbformat_minor": 2
}
