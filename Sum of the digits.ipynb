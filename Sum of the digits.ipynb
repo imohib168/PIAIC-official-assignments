{
 "cells": [
  {
   "cell_type": "code",
   "execution_count": 13,
   "metadata": {},
   "outputs": [
    {
     "name": "stdout",
     "output_type": "stream",
     "text": [
      "--------------------------------------------------------\n",
      "Program to calculate the sum of the digits in an integer: \n",
      "--------------------------------------------------------\n",
      "Enter Integer Number: 5446\n",
      "\n",
      "--------------------------------------------------------\n",
      "Sum of the given digits are:  19\n",
      "--------------------------------------------------------\n"
     ]
    }
   ],
   "source": [
    "def line():\n",
    "    print(\"-\" * 56)\n",
    "line()\n",
    "print(\"Program to calculate the sum of the digits in an integer: \")\n",
    "line()\n",
    "num = int(input(\"Enter Integer Number: \"))\n",
    "num = str(int(num))\n",
    "print()\n",
    "c = 0\n",
    "for a in num:\n",
    "    c += int(a)\n",
    "line()\n",
    "print(\"Sum of the given digits are: \",c)\n",
    "line()"
   ]
  },
  {
   "cell_type": "code",
   "execution_count": null,
   "metadata": {},
   "outputs": [],
   "source": []
  }
 ],
 "metadata": {
  "kernelspec": {
   "display_name": "Python 3",
   "language": "python",
   "name": "python3"
  },
  "language_info": {
   "codemirror_mode": {
    "name": "ipython",
    "version": 3
   },
   "file_extension": ".py",
   "mimetype": "text/x-python",
   "name": "python",
   "nbconvert_exporter": "python",
   "pygments_lexer": "ipython3",
   "version": "3.7.3"
  }
 },
 "nbformat": 4,
 "nbformat_minor": 2
}
