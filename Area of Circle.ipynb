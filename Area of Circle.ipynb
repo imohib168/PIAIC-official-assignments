{
 "cells": [
  {
   "cell_type": "code",
   "execution_count": 2,
   "metadata": {},
   "outputs": [
    {
     "name": "stdout",
     "output_type": "stream",
     "text": [
      "Find Area of a circle by user given radius: \n",
      "\n",
      "Enter Radius: 5\n",
      "\n",
      "The area of a Circle is:  78.53981633974483\n"
     ]
    }
   ],
   "source": [
    "print(\"Find Area of a circle by user given radius: \")\n",
    "print()\n",
    "rad = float(input(\"Enter Radius: \"))\n",
    "import math\n",
    "area = math.pi * rad ** 2\n",
    "print()\n",
    "print(\"The area of a Circle is: \",area)"
   ]
  },
  {
   "cell_type": "code",
   "execution_count": null,
   "metadata": {},
   "outputs": [],
   "source": []
  }
 ],
 "metadata": {
  "kernelspec": {
   "display_name": "Python 3",
   "language": "python",
   "name": "python3"
  },
  "language_info": {
   "codemirror_mode": {
    "name": "ipython",
    "version": 3
   },
   "file_extension": ".py",
   "mimetype": "text/x-python",
   "name": "python",
   "nbconvert_exporter": "python",
   "pygments_lexer": "ipython3",
   "version": "3.7.3"
  }
 },
 "nbformat": 4,
 "nbformat_minor": 2
}
