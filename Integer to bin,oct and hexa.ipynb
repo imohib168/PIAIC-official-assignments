{
 "cells": [
  {
   "cell_type": "code",
   "execution_count": 6,
   "metadata": {},
   "outputs": [
    {
     "name": "stdout",
     "output_type": "stream",
     "text": [
      "-----------------------------------------------------------------------\n",
      "Program to convert an integer to Binary, Octal and Hexadecimal numbers: \n",
      "-----------------------------------------------------------------------\n",
      "Enter an Integer: 5\n",
      "********************\n",
      "Integer to Binary:  0b101\n",
      "-----------------------------------------------------------------------\n",
      "Integer to Hexadecimal:  0x5\n",
      "-----------------------------------------------------------------------\n",
      "Integer to Octal:  0o5\n",
      "-----------------------------------------------------------------------\n"
     ]
    }
   ],
   "source": [
    "def line():\n",
    "    print(\"-\" * 71)\n",
    "line()\n",
    "def line2():\n",
    "    print(\"*\" * 20)\n",
    "print(\"Program to convert an integer to Binary, Octal and Hexadecimal numbers: \")\n",
    "line()\n",
    "ui = input(\"Enter an Integer: \")\n",
    "a = int(ui)\n",
    "line2()\n",
    "print(\"Integer to Binary: \",bin(a))\n",
    "line()\n",
    "print(\"Integer to Hexadecimal: \",hex(a))\n",
    "line()\n",
    "print(\"Integer to Octal: \",oct(a))\n",
    "line()"
   ]
  },
  {
   "cell_type": "code",
   "execution_count": null,
   "metadata": {},
   "outputs": [],
   "source": []
  }
 ],
 "metadata": {
  "kernelspec": {
   "display_name": "Python 3",
   "language": "python",
   "name": "python3"
  },
  "language_info": {
   "codemirror_mode": {
    "name": "ipython",
    "version": 3
   },
   "file_extension": ".py",
   "mimetype": "text/x-python",
   "name": "python",
   "nbconvert_exporter": "python",
   "pygments_lexer": "ipython3",
   "version": "3.7.3"
  }
 },
 "nbformat": 4,
 "nbformat_minor": 2
}
