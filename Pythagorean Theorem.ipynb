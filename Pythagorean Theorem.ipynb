{
 "cells": [
  {
   "cell_type": "code",
   "execution_count": 6,
   "metadata": {},
   "outputs": [
    {
     "name": "stdout",
     "output_type": "stream",
     "text": [
      "Program to calculate the hypotenuse of a right angled triangle: \n",
      "\n",
      "Enter the length of your triangle: 8\n",
      "Enter the length of your triangle: 5\n",
      "\n",
      "The length of your Third side is: 9.434\n"
     ]
    }
   ],
   "source": [
    "print(\"Program to calculate the hypotenuse of a right angled triangle: \")\n",
    "print()\n",
    "from math import sqrt\n",
    "def Length():\n",
    "    length = float(input(\"Enter the length of your triangle: \"))\n",
    "    return length\n",
    "\n",
    "side_1 = Length()\n",
    "side_2 = Length()\n",
    "\n",
    "def calcTri(side_1 , side_2):\n",
    "    side_3 = sqrt(side_1 ** 2 + side_2 ** 2)\n",
    "    print(\"The length of your Third side is: %.3f\" % side_3)\n",
    "print()\n",
    "\n",
    "calcTri(side_1 , side_2)"
   ]
  },
  {
   "cell_type": "code",
   "execution_count": null,
   "metadata": {},
   "outputs": [],
   "source": []
  }
 ],
 "metadata": {
  "kernelspec": {
   "display_name": "Python 3",
   "language": "python",
   "name": "python3"
  },
  "language_info": {
   "codemirror_mode": {
    "name": "ipython",
    "version": 3
   },
   "file_extension": ".py",
   "mimetype": "text/x-python",
   "name": "python",
   "nbconvert_exporter": "python",
   "pygments_lexer": "ipython3",
   "version": "3.7.3"
  }
 },
 "nbformat": 4,
 "nbformat_minor": 2
}
