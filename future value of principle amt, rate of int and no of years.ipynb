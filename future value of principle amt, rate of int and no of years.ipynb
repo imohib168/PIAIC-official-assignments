{
 "cells": [
  {
   "cell_type": "code",
   "execution_count": 1,
   "metadata": {},
   "outputs": [
    {
     "name": "stdout",
     "output_type": "stream",
     "text": [
      "---------------------------------------------------------------------------------------------------------\n",
      "Program to compute the future value of a specified principal amount, rate of interest, and a number of years: \n",
      "---------------------------------------------------------------------------------------------------------\n",
      "Enter your Amount please: 20000\n",
      "Enter your Interest Ratio please: 30.0\n",
      "Enter Number of years: 3\n",
      "---------------------------------------------------------------------------------------------------------\n",
      "Your Future value is: 20540.000\n",
      "---------------------------------------------------------------------------------------------------------\n"
     ]
    }
   ],
   "source": [
    "def line():\n",
    "    print(\"-\" * 105)\n",
    "line()\n",
    "print(\"Program to compute the future value of a specified principal amount, rate of interest, and a number of years: \")\n",
    "line()\n",
    "amount = float(input(\"Enter your Amount please: \"))\n",
    "interest = float(input(\"Enter your Interest Ratio please: \"))\n",
    "years = int(input(\"Enter Number of years: \"))\n",
    "line()\n",
    "cal = amount * (1 + (interest / 100) ** years)\n",
    "print(\"Your Future value is: %.3f\" %cal)\n",
    "line()"
   ]
  },
  {
   "cell_type": "code",
   "execution_count": null,
   "metadata": {},
   "outputs": [],
   "source": []
  }
 ],
 "metadata": {
  "kernelspec": {
   "display_name": "Python 3",
   "language": "python",
   "name": "python3"
  },
  "language_info": {
   "codemirror_mode": {
    "name": "ipython",
    "version": 3
   },
   "file_extension": ".py",
   "mimetype": "text/x-python",
   "name": "python",
   "nbconvert_exporter": "python",
   "pygments_lexer": "ipython3",
   "version": "3.7.3"
  }
 },
 "nbformat": 4,
 "nbformat_minor": 2
}
