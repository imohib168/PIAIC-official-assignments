{
 "cells": [
  {
   "cell_type": "code",
   "execution_count": 10,
   "metadata": {},
   "outputs": [
    {
     "name": "stdout",
     "output_type": "stream",
     "text": [
      "Program to convert height (in feet and inches) to centimetres: \n",
      "\n",
      "--------------------------------------------------------------\n",
      "Enter your Height in Feet: 5\n",
      "Enter your Height in Inches: 8\n",
      "--------------------------------------------------------------\n",
      "Your Height in Centimeter is:  172.72 cm\n",
      "--------------------------------------------------------------\n"
     ]
    }
   ],
   "source": [
    "print(\"Program to convert height (in feet and inches) to centimetres: \")\n",
    "print()\n",
    "def line():\n",
    "    print(\"-\"*62)\n",
    "line()\n",
    "fht = int(input(\"Enter your Height in Feet: \"))\n",
    "iht = int(input(\"Enter your Height in Inches: \"))\n",
    "line()\n",
    "cal = ((fht * 12) + iht) * 2.54\n",
    "print(\"Your Height in Centimeter is: \",cal, \"cm\")\n",
    "line()"
   ]
  }
 ],
 "metadata": {
  "kernelspec": {
   "display_name": "Python 3",
   "language": "python",
   "name": "python3"
  },
  "language_info": {
   "codemirror_mode": {
    "name": "ipython",
    "version": 3
   },
   "file_extension": ".py",
   "mimetype": "text/x-python",
   "name": "python",
   "nbconvert_exporter": "python",
   "pygments_lexer": "ipython3",
   "version": "3.7.3"
  }
 },
 "nbformat": 4,
 "nbformat_minor": 2
}
