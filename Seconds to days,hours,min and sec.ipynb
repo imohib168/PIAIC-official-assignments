{
 "cells": [
  {
   "cell_type": "code",
   "execution_count": 1,
   "metadata": {},
   "outputs": [
    {
     "name": "stdout",
     "output_type": "stream",
     "text": [
      "Program to convert seconds to day, hour, minutes and seconds: \n",
      "\n",
      "Enter Seconds: 518400\n",
      "\n",
      "--------------------------------\n",
      "Days:Hours:Min:Sec:  6:0:0:0\n",
      "--------------------------------\n"
     ]
    }
   ],
   "source": [
    "print(\"Program to convert seconds to day, hour, minutes and seconds: \")\n",
    "print()\n",
    "sec = int(input(\"Enter Seconds: \"))\n",
    "print()\n",
    "days = sec // (24 * 3600)\n",
    "sec = sec % (24 * 3600)\n",
    "hours = sec // 3600\n",
    "sec = sec % 3600\n",
    "minutes = sec // 60\n",
    "sec = sec % 60\n",
    "sec = sec\n",
    "print(\"--------------------------------\")\n",
    "cal = str(days) + \":\" + str(hours) + \":\" + str(minutes) + \":\" + str(sec)\n",
    "print(\"Days:Hours:Min:Sec: \",cal)\n",
    "print(\"--------------------------------\")"
   ]
  }
 ],
 "metadata": {
  "kernelspec": {
   "display_name": "Python 3",
   "language": "python",
   "name": "python3"
  },
  "language_info": {
   "codemirror_mode": {
    "name": "ipython",
    "version": 3
   },
   "file_extension": ".py",
   "mimetype": "text/x-python",
   "name": "python",
   "nbconvert_exporter": "python",
   "pygments_lexer": "ipython3",
   "version": "3.7.3"
  }
 },
 "nbformat": 4,
 "nbformat_minor": 2
}
