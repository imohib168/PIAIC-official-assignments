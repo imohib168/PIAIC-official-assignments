{
 "cells": [
  {
   "cell_type": "code",
   "execution_count": 6,
   "metadata": {},
   "outputs": [
    {
     "name": "stdout",
     "output_type": "stream",
     "text": [
      "------------------------------------------------\n",
      "Program to sum of the first n positive integers: \n",
      "------------------------------------------------\n",
      "Enter a number: 5\n",
      "0\n",
      "1\n",
      "2\n",
      "3\n",
      "4\n",
      "5\n",
      "------------------------------------------------\n",
      "The sum of given Integers are: 15\n",
      "------------------------------------------------\n"
     ]
    }
   ],
   "source": [
    "def line():\n",
    "    print(\"-\"*48)\n",
    "line()\n",
    "print(\"Program to sum of the first n positive integers: \")\n",
    "line()\n",
    "c = 0\n",
    "num = int(input(\"Enter a number: \"))\n",
    "for a in range(num + 1):\n",
    "    print(a)\n",
    "    c += a\n",
    "line()\n",
    "print(f\"The sum of given Integers are: {c}\")\n",
    "line()"
   ]
  },
  {
   "cell_type": "code",
   "execution_count": null,
   "metadata": {},
   "outputs": [],
   "source": []
  }
 ],
 "metadata": {
  "kernelspec": {
   "display_name": "Python 3",
   "language": "python",
   "name": "python3"
  },
  "language_info": {
   "codemirror_mode": {
    "name": "ipython",
    "version": 3
   },
   "file_extension": ".py",
   "mimetype": "text/x-python",
   "name": "python",
   "nbconvert_exporter": "python",
   "pygments_lexer": "ipython3",
   "version": "3.7.3"
  }
 },
 "nbformat": 4,
 "nbformat_minor": 2
}
