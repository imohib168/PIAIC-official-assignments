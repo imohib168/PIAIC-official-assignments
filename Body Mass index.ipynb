{
 "cells": [
  {
   "cell_type": "code",
   "execution_count": 2,
   "metadata": {},
   "outputs": [
    {
     "name": "stdout",
     "output_type": "stream",
     "text": [
      "Program to calculate body mass index: \n",
      "\n",
      "Enter your height in metre please: 5.8\n",
      "Enter your weight in kilogram please: 58\n",
      "\n",
      "Your Body Mass Index is:  1.72\n"
     ]
    }
   ],
   "source": [
    "print(\"Program to calculate body mass index: \")\n",
    "print()\n",
    "ht = float(input(\"Enter your height in metre please: \"))\n",
    "wt = float(input(\"Enter your weight in kilogram please: \"))\n",
    "print()\n",
    "cal = round(wt / (ht ** 2),2)\n",
    "print(\"Your Body Mass Index is: \",cal)"
   ]
  },
  {
   "cell_type": "code",
   "execution_count": null,
   "metadata": {},
   "outputs": [],
   "source": []
  }
 ],
 "metadata": {
  "kernelspec": {
   "display_name": "Python 3",
   "language": "python",
   "name": "python3"
  },
  "language_info": {
   "codemirror_mode": {
    "name": "ipython",
    "version": 3
   },
   "file_extension": ".py",
   "mimetype": "text/x-python",
   "name": "python",
   "nbconvert_exporter": "python",
   "pygments_lexer": "ipython3",
   "version": "3.7.3"
  }
 },
 "nbformat": 4,
 "nbformat_minor": 2
}
