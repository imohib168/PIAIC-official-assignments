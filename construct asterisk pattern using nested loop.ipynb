{
 "cells": [
  {
   "cell_type": "code",
   "execution_count": 22,
   "metadata": {},
   "outputs": [
    {
     "name": "stdout",
     "output_type": "stream",
     "text": [
      "Construct Asterisk Pattern Using a Nested loop: \n",
      "\n",
      "\n",
      "* \n",
      "* * \n",
      "* * * \n",
      "* * * * \n",
      "* * * * * \n",
      "* * * * * * \n",
      "* * * * * \n",
      "* * * * \n",
      "* * * \n",
      "* * \n",
      "* \n"
     ]
    }
   ],
   "source": [
    "print(\"Construct Asterisk Pattern Using a Nested loop: \")\n",
    "print()\n",
    "for a in range(6):\n",
    "    for i in range(a):\n",
    "        print(\"*\",end=\" \")\n",
    "    print(\"\")\n",
    "\n",
    "for a in range(6,0,-1):\n",
    "    for i in range(a):\n",
    "        print(\"*\",end=\" \")\n",
    "    print(\"\")"
   ]
  },
  {
   "cell_type": "code",
   "execution_count": 34,
   "metadata": {},
   "outputs": [
    {
     "name": "stdout",
     "output_type": "stream",
     "text": [
      "Construct Number Pattern Using a Nested loop (1): \n",
      "\n",
      " \n",
      "1  \n",
      "1 2  \n",
      "1 2 3  \n",
      "1 2 3 4  \n",
      "1 2 3 4 5  \n",
      "1 2 3 4 5 6  \n",
      "1 2 3 4 5  \n",
      "1 2 3 4  \n",
      "1 2 3  \n",
      "1 2  \n",
      "1  \n"
     ]
    }
   ],
   "source": [
    "print(\"Construct Number Pattern Using a Nested loop (1): \")\n",
    "print()\n",
    "for a in range(6):\n",
    "    for b in range(a):\n",
    "        print(str(b + 1),end=\" \")\n",
    "    print(\" \")\n",
    "for a in range(6,0,-1):\n",
    "    for b in range(a):\n",
    "        print(str(b + 1),end=\" \")\n",
    "    print(\" \")"
   ]
  },
  {
   "cell_type": "code",
   "execution_count": 33,
   "metadata": {},
   "outputs": [
    {
     "name": "stdout",
     "output_type": "stream",
     "text": [
      "Construct Number Pattern Using a Nested loop (2): \n",
      "\n",
      " \n",
      "1 \n",
      "22 \n",
      "333 \n",
      "4444 \n",
      "55555 \n",
      "666666 \n",
      "7777777 \n",
      "88888888 \n",
      "999999999 \n"
     ]
    }
   ],
   "source": [
    "print(\"Construct Number Pattern Using a Nested loop (2): \")\n",
    "print()\n",
    "for i in range(0,10):\n",
    "    for j in range(i):\n",
    "        print(str(i),end='')\n",
    "    print(\" \")"
   ]
  },
  {
   "cell_type": "code",
   "execution_count": null,
   "metadata": {},
   "outputs": [],
   "source": []
  }
 ],
 "metadata": {
  "kernelspec": {
   "display_name": "Python 3",
   "language": "python",
   "name": "python3"
  },
  "language_info": {
   "codemirror_mode": {
    "name": "ipython",
    "version": 3
   },
   "file_extension": ".py",
   "mimetype": "text/x-python",
   "name": "python",
   "nbconvert_exporter": "python",
   "pygments_lexer": "ipython3",
   "version": "3.7.3"
  }
 },
 "nbformat": 4,
 "nbformat_minor": 2
}
