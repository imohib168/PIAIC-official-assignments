{
 "cells": [
  {
   "cell_type": "code",
   "execution_count": 1,
   "metadata": {},
   "outputs": [
    {
     "name": "stdout",
     "output_type": "stream",
     "text": [
      "Program to accept integer from User and compute the value of (n + nn + nnn): \n",
      "\n",
      "Enter an integer: 9\n",
      "\n",
      "9 + 81 + 729  =  819\n"
     ]
    }
   ],
   "source": [
    "print(\"Program to accept integer from User and compute the value of (n + nn + nnn): \")\n",
    "print()\n",
    "n = int(input(\"Enter an integer: \"))\n",
    "print()\n",
    "print(n, \"+\" , n**2, \"+\" , n**3, \" = \", n + n**2 + n**3)"
   ]
  }
 ],
 "metadata": {
  "kernelspec": {
   "display_name": "Python 3",
   "language": "python",
   "name": "python3"
  },
  "language_info": {
   "codemirror_mode": {
    "name": "ipython",
    "version": 3
   },
   "file_extension": ".py",
   "mimetype": "text/x-python",
   "name": "python",
   "nbconvert_exporter": "python",
   "pygments_lexer": "ipython3",
   "version": "3.7.3"
  }
 },
 "nbformat": 4,
 "nbformat_minor": 2
}
