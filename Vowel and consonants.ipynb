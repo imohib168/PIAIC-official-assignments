{
 "cells": [
  {
   "cell_type": "code",
   "execution_count": 2,
   "metadata": {},
   "outputs": [
    {
     "name": "stdout",
     "output_type": "stream",
     "text": [
      "Program to check if a number is Vowel or consonant: \n",
      "\n",
      "Enter alphabet please: a\n",
      "\n",
      "The give Character a is a Vowel. \n"
     ]
    }
   ],
   "source": [
    "print(\"Program to check if a number is Vowel or consonant: \")\n",
    "print()\n",
    "chr = (input(\"Enter alphabet please: \"))\n",
    "print()\n",
    "if chr == \"A\" or chr == \"a\":\n",
    "    print(\"The give Character\", chr, \"is a Vowel. \")\n",
    "elif chr == \"E\" or che == \"e\":\n",
    "    print(\"The give Character\", chr, \"is a Vowel. \")\n",
    "elif chr == \"I\" or che == \"i\":\n",
    "    print(\"The give Character\", chr, \"is a Vowel. \")\n",
    "elif chr == \"O\" or che == \"o\":\n",
    "    print(\"The give Character\", chr, \"is a Vowel. \")\n",
    "elif chr == \"U\" or che == \"u\":\n",
    "    print(\"The give Character\", chr, \"is a Vowel. \")\n",
    "else:\n",
    "    print(\"The give Character\", chr, \"is a not a Vowel. \")"
   ]
  },
  {
   "cell_type": "code",
   "execution_count": null,
   "metadata": {},
   "outputs": [],
   "source": []
  }
 ],
 "metadata": {
  "kernelspec": {
   "display_name": "Python 3",
   "language": "python",
   "name": "python3"
  },
  "language_info": {
   "codemirror_mode": {
    "name": "ipython",
    "version": 3
   },
   "file_extension": ".py",
   "mimetype": "text/x-python",
   "name": "python",
   "nbconvert_exporter": "python",
   "pygments_lexer": "ipython3",
   "version": "3.7.3"
  }
 },
 "nbformat": 4,
 "nbformat_minor": 2
}
