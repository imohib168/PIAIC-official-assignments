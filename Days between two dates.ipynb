{
 "cells": [
  {
   "cell_type": "code",
   "execution_count": 35,
   "metadata": {},
   "outputs": [
    {
     "name": "stdout",
     "output_type": "stream",
     "text": [
      "Program to calculate number of days between two dates: \n",
      "\n",
      "Enter First date in [dd-mm-yyyy]: 21-08-2001\n",
      "Enter Second date in [dd-mm-yyyy]: 21-08-2019\n",
      "\n",
      "\n",
      "Start date: 2001-08-21 \n",
      "End date: 2019-08-21\n",
      "Number of days between two dates: 6574\n"
     ]
    }
   ],
   "source": [
    "print(\"Program to calculate number of days between two dates: \")\n",
    "import datetime\n",
    "print()\n",
    "dt_1 = (input(\"Enter First date in [dd-mm-yyyy]: \"))\n",
    "dt_2 = (input(\"Enter Second date in [dd-mm-yyyy]: \"))\n",
    "print()\n",
    "d1, m1, y1 = map(int, dt_1.split('-'))\n",
    "d2, m2, y2 = map(int, dt_2.split('-'))\n",
    "print()\n",
    "dt_1 = datetime.date(y1, m1, d1)\n",
    "dt_2 = datetime.date(y2, m2, d2)\n",
    "days = (dt_2 - dt_1).days\n",
    "print(f\"Start date: {dt_1} \")\n",
    "print(f\"End date: {dt_2}\")\n",
    "print(f\"Number of days between two dates: {days}\")"
   ]
  },
  {
   "cell_type": "code",
   "execution_count": null,
   "metadata": {},
   "outputs": [],
   "source": []
  }
 ],
 "metadata": {
  "kernelspec": {
   "display_name": "Python 3",
   "language": "python",
   "name": "python3"
  },
  "language_info": {
   "codemirror_mode": {
    "name": "ipython",
    "version": 3
   },
   "file_extension": ".py",
   "mimetype": "text/x-python",
   "name": "python",
   "nbconvert_exporter": "python",
   "pygments_lexer": "ipython3",
   "version": "3.7.3"
  }
 },
 "nbformat": 4,
 "nbformat_minor": 2
}
