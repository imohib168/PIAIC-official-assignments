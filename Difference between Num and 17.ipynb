{
 "cells": [
  {
   "cell_type": "code",
   "execution_count": 1,
   "metadata": {},
   "outputs": [
    {
     "name": "stdout",
     "output_type": "stream",
     "text": [
      "Program to get the difference between a given number and 17: \n",
      "\n",
      "Enter Number: 56\n",
      "\n",
      "The Difference between 56.0 and 17 is 39.0\n"
     ]
    }
   ],
   "source": [
    "print(\"Program to get the difference between a given number and 17: \")\n",
    "print()\n",
    "num = float(input(\"Enter Number: \"))\n",
    "difference = abs(17 - num)\n",
    "print()\n",
    "print(\"The Difference between\", num, \"and 17 is\", difference)"
   ]
  }
 ],
 "metadata": {
  "kernelspec": {
   "display_name": "Python 3",
   "language": "python",
   "name": "python3"
  },
  "language_info": {
   "codemirror_mode": {
    "name": "ipython",
    "version": 3
   },
   "file_extension": ".py",
   "mimetype": "text/x-python",
   "name": "python",
   "nbconvert_exporter": "python",
   "pygments_lexer": "ipython3",
   "version": "3.7.3"
  }
 },
 "nbformat": 4,
 "nbformat_minor": 2
}
