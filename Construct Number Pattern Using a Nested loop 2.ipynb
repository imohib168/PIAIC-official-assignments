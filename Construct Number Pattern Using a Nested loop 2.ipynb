{
 "cells": [
  {
   "cell_type": "code",
   "execution_count": 1,
   "metadata": {},
   "outputs": [
    {
     "name": "stdout",
     "output_type": "stream",
     "text": [
      "Construct Number Pattern Using a Nested loop (2): \n",
      "\n",
      " \n",
      "1 \n",
      "22 \n",
      "333 \n",
      "4444 \n",
      "55555 \n",
      "666666 \n",
      "7777777 \n",
      "88888888 \n",
      "999999999 \n"
     ]
    }
   ],
   "source": [
    "print(\"Construct Number Pattern Using a Nested loop (2): \")\n",
    "print()\n",
    "for i in range(0,10):\n",
    "    for j in range(i):\n",
    "        print(str(i),end='')\n",
    "    print(\" \")"
   ]
  },
  {
   "cell_type": "code",
   "execution_count": null,
   "metadata": {},
   "outputs": [],
   "source": []
  }
 ],
 "metadata": {
  "kernelspec": {
   "display_name": "Python 3",
   "language": "python",
   "name": "python3"
  },
  "language_info": {
   "codemirror_mode": {
    "name": "ipython",
    "version": 3
   },
   "file_extension": ".py",
   "mimetype": "text/x-python",
   "name": "python",
   "nbconvert_exporter": "python",
   "pygments_lexer": "ipython3",
   "version": "3.7.3"
  }
 },
 "nbformat": 4,
 "nbformat_minor": 2
}
