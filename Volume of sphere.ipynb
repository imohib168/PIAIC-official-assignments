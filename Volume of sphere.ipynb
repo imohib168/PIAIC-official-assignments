{
 "cells": [
  {
   "cell_type": "code",
   "execution_count": 6,
   "metadata": {},
   "outputs": [
    {
     "name": "stdout",
     "output_type": "stream",
     "text": [
      "Program to get Volume of sphere By giving radius: \n",
      "\n",
      "Enter Radius: 5\n",
      "\n",
      "The Volume of Sphere is:  523.5987755982989\n"
     ]
    }
   ],
   "source": [
    "print(\"Program to get Volume of sphere By giving radius: \")\n",
    "print()\n",
    "rad = float(input(\"Enter Radius: \"))\n",
    "import math\n",
    "area = 4 / 3 * math.pi * rad**3\n",
    "print()\n",
    "print(\"The Volume of Sphere is: \",area)"
   ]
  }
 ],
 "metadata": {
  "kernelspec": {
   "display_name": "Python 3",
   "language": "python",
   "name": "python3"
  },
  "language_info": {
   "codemirror_mode": {
    "name": "ipython",
    "version": 3
   },
   "file_extension": ".py",
   "mimetype": "text/x-python",
   "name": "python",
   "nbconvert_exporter": "python",
   "pygments_lexer": "ipython3",
   "version": "3.7.3"
  }
 },
 "nbformat": 4,
 "nbformat_minor": 2
}
