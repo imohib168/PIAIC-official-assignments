{
 "cells": [
  {
   "cell_type": "code",
   "execution_count": 21,
   "metadata": {},
   "outputs": [
    {
     "name": "stdout",
     "output_type": "stream",
     "text": [
      "----------------------------------------------------------------------\n",
      "Program to create the multiplication table (from 1 to 10) of a number: \n",
      "----------------------------------------------------------------------\n",
      "Enter Table number: 1\n",
      "\n",
      "----------------------------------------------------------------------\n",
      "Table: \n",
      "----------------------------------------------------------------------\n",
      "1 * 1 = 1\n",
      "1 * 2 = 2\n",
      "1 * 3 = 3\n",
      "1 * 4 = 4\n",
      "1 * 5 = 5\n",
      "1 * 6 = 6\n",
      "1 * 7 = 7\n",
      "1 * 8 = 8\n",
      "1 * 9 = 9\n",
      "1 * 10 = 10\n"
     ]
    }
   ],
   "source": [
    "def line():\n",
    "    print(\"-\" * 70)\n",
    "line()\n",
    "print(\"Program to create the multiplication table (from 1 to 10) of a number: \")\n",
    "line()\n",
    "t = int(input(\"Enter Table number: \"))\n",
    "print()\n",
    "for t in range(1,t + 1):\n",
    "    line()\n",
    "    print(\"Table: \")\n",
    "    line()\n",
    "    for num in range(1,11):\n",
    "        print(f\"{t} * {num} = {t * num}\")"
   ]
  },
  {
   "cell_type": "code",
   "execution_count": null,
   "metadata": {},
   "outputs": [],
   "source": []
  }
 ],
 "metadata": {
  "kernelspec": {
   "display_name": "Python 3",
   "language": "python",
   "name": "python3"
  },
  "language_info": {
   "codemirror_mode": {
    "name": "ipython",
    "version": 3
   },
   "file_extension": ".py",
   "mimetype": "text/x-python",
   "name": "python",
   "nbconvert_exporter": "python",
   "pygments_lexer": "ipython3",
   "version": "3.7.3"
  }
 },
 "nbformat": 4,
 "nbformat_minor": 2
}
