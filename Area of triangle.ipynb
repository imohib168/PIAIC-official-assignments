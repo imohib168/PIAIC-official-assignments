{
 "cells": [
  {
   "cell_type": "code",
   "execution_count": 4,
   "metadata": {},
   "outputs": [
    {
     "name": "stdout",
     "output_type": "stream",
     "text": [
      "Program that will accept the base and height of a triangle and compute the area: \n",
      "\n",
      "Enter the Base of Triangle: 4\n",
      "Enter the Height of Triangle: 5\n",
      "\n",
      "The Area of Triangle is:  10.0\n"
     ]
    }
   ],
   "source": [
    "print(\"Program that will accept the base and height of a triangle and compute the area: \")\n",
    "print()\n",
    "base = float(input(\"Enter the Base of Triangle: \"))\n",
    "height = float(input(\"Enter the Height of Triangle: \"))\n",
    "area = (1 / 2) * base * height\n",
    "print()\n",
    "print(\"The Area of Triangle is: \",area)"
   ]
  }
 ],
 "metadata": {
  "kernelspec": {
   "display_name": "Python 3",
   "language": "python",
   "name": "python3"
  },
  "language_info": {
   "codemirror_mode": {
    "name": "ipython",
    "version": 3
   },
   "file_extension": ".py",
   "mimetype": "text/x-python",
   "name": "python",
   "nbconvert_exporter": "python",
   "pygments_lexer": "ipython3",
   "version": "3.7.3"
  }
 },
 "nbformat": 4,
 "nbformat_minor": 2
}
