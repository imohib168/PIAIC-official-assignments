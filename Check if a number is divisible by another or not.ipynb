{
 "cells": [
  {
   "cell_type": "code",
   "execution_count": 1,
   "metadata": {},
   "outputs": [
    {
     "name": "stdout",
     "output_type": "stream",
     "text": [
      "Program to Check if a number is Divisible by another number or not: \n",
      "\n",
      "Enter Numinator: 10\n",
      "Enter Denominator: 8\n",
      "\n",
      "Number 10 is not Divisible by 8\n"
     ]
    }
   ],
   "source": [
    "print(\"Program to Check if a number is Divisible by another number or not: \")\n",
    "print()\n",
    "num = int(input(\"Enter Numinator: \"))\n",
    "den = int(input(\"Enter Denominator: \"))\n",
    "print()\n",
    "if (num % den) == 0:\n",
    "    print(\"Number\", num, \"is Divisible by\", den)\n",
    "else:\n",
    "    print(\"Number\", num, \"is not Divisible by\", den)"
   ]
  },
  {
   "cell_type": "code",
   "execution_count": null,
   "metadata": {},
   "outputs": [],
   "source": []
  }
 ],
 "metadata": {
  "kernelspec": {
   "display_name": "Python 3",
   "language": "python",
   "name": "python3"
  },
  "language_info": {
   "codemirror_mode": {
    "name": "ipython",
    "version": 3
   },
   "file_extension": ".py",
   "mimetype": "text/x-python",
   "name": "python",
   "nbconvert_exporter": "python",
   "pygments_lexer": "ipython3",
   "version": "3.7.3"
  }
 },
 "nbformat": 4,
 "nbformat_minor": 2
}
