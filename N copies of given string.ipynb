{
 "cells": [
  {
   "cell_type": "code",
   "execution_count": 2,
   "metadata": {},
   "outputs": [
    {
     "name": "stdout",
     "output_type": "stream",
     "text": [
      "------------------------------------------------------------\n",
      "Program to get a string which is n copies of a given string: \n",
      "------------------------------------------------------------\n",
      "Enter String please: Mohib\n",
      "Enter N copies please: 5\n",
      "------------------------------------------------------------\n",
      "Your String is: Mohib\n",
      "Your Number of Copies of string is: MohibMohibMohibMohibMohib\n"
     ]
    }
   ],
   "source": [
    "def line():\n",
    "    print(\"-\" * 60)\n",
    "line()\n",
    "print(\"Program to get a string which is n copies of a given string: \")\n",
    "line()\n",
    "string = str(input(\"Enter String please: \"))\n",
    "n_copy = int(input(\"Enter N copies please: \"))\n",
    "line()\n",
    "print(\"Your String is: \"+ string)\n",
    "print(\"Your Number of Copies of string is: \" + (string * int(n_copy)))"
   ]
  },
  {
   "cell_type": "code",
   "execution_count": null,
   "metadata": {},
   "outputs": [],
   "source": []
  }
 ],
 "metadata": {
  "kernelspec": {
   "display_name": "Python 3",
   "language": "python",
   "name": "python3"
  },
  "language_info": {
   "codemirror_mode": {
    "name": "ipython",
    "version": 3
   },
   "file_extension": ".py",
   "mimetype": "text/x-python",
   "name": "python",
   "nbconvert_exporter": "python",
   "pygments_lexer": "ipython3",
   "version": "3.7.3"
  }
 },
 "nbformat": 4,
 "nbformat_minor": 2
}
