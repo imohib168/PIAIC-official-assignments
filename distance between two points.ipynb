{
 "cells": [
  {
   "cell_type": "code",
   "execution_count": 3,
   "metadata": {},
   "outputs": [
    {
     "name": "stdout",
     "output_type": "stream",
     "text": [
      "------------------------------------------------------------------------\n",
      "Program to compute the distance between the points (x1, y1) and (x2, y2)\n",
      "------------------------------------------------------------------------\n",
      "Enter value of 'x1': 1\n",
      "Enter value of 'y1': 2\n",
      "Enter value of 'x2': 3\n",
      "Enter value of 'y2': 4\n",
      "------------------------------------------------------------------------\n",
      "The Distance between to point is: 2.828 \n",
      "------------------------------------------------------------------------\n"
     ]
    }
   ],
   "source": [
    "def line():\n",
    "    print(\"-\"*72)\n",
    "line()\n",
    "print(\"Program to compute the distance between the points (x1, y1) and (x2, y2)\")\n",
    "line()\n",
    "from math import sqrt\n",
    "x1 = float(input(\"Enter value of 'x1': \"))\n",
    "y1 = float(input(\"Enter value of 'y1': \"))\n",
    "x2 = float(input(\"Enter value of 'x2': \"))\n",
    "y2 = float(input(\"Enter value of 'y2': \"))\n",
    "line()\n",
    "cal= sqrt((x1 - x2) ** 2 + (y1 - y2) ** 2)\n",
    "print(\"The Distance between to point is: %.3f \" % cal)\n",
    "line()"
   ]
  },
  {
   "cell_type": "code",
   "execution_count": null,
   "metadata": {},
   "outputs": [],
   "source": []
  },
  {
   "cell_type": "code",
   "execution_count": null,
   "metadata": {},
   "outputs": [],
   "source": []
  }
 ],
 "metadata": {
  "kernelspec": {
   "display_name": "Python 3",
   "language": "python",
   "name": "python3"
  },
  "language_info": {
   "codemirror_mode": {
    "name": "ipython",
    "version": 3
   },
   "file_extension": ".py",
   "mimetype": "text/x-python",
   "name": "python",
   "nbconvert_exporter": "python",
   "pygments_lexer": "ipython3",
   "version": "3.7.3"
  }
 },
 "nbformat": 4,
 "nbformat_minor": 2
}
