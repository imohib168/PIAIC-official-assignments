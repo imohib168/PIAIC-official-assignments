{
 "cells": [
  {
   "cell_type": "code",
   "execution_count": 1,
   "metadata": {},
   "outputs": [
    {
     "name": "stdout",
     "output_type": "stream",
     "text": [
      "Program to check if a Number is Positive Negative or Zero:\n",
      "\n",
      "Enter Number please: -98\n",
      "The entered number is negative. \n"
     ]
    }
   ],
   "source": [
    "print(\"Program to check if a Number is Positive Negative or Zero:\")\n",
    "print()\n",
    "\n",
    "number = int(input(\"Enter Number please: \"))\n",
    "\n",
    "if number < 0:\n",
    "    print(\"The entered number is negative. \")\n",
    "elif number > 0:\n",
    "    print(\"The entered number is positive. \")\n",
    "else:\n",
    "    print(\"The input is not a number. \")\n"
   ]
  }
 ],
 "metadata": {
  "kernelspec": {
   "display_name": "Python 3",
   "language": "python",
   "name": "python3"
  },
  "language_info": {
   "codemirror_mode": {
    "name": "ipython",
    "version": 3
   },
   "file_extension": ".py",
   "mimetype": "text/x-python",
   "name": "python",
   "nbconvert_exporter": "python",
   "pygments_lexer": "ipython3",
   "version": "3.7.3"
  }
 },
 "nbformat": 4,
 "nbformat_minor": 2
}
